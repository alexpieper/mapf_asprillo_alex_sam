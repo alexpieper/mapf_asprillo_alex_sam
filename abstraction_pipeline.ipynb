{
 "cells": [
  {
   "cell_type": "markdown",
   "metadata": {},
   "source": [
    "# MAPF with Abstraction"
   ]
  },
  {
   "cell_type": "markdown",
   "metadata": {},
   "source": [
    "First, we are going to create the instance, we are trying to solve.\n",
    "\n",
    "We decided to go for a simple grid with the variable xsize and ysize.\n",
    "We are at this point constrained to even x and y axis, which could be optimized in the future.\n",
    "\n",
    "Also you can change the agents' location and their goals.\n"
   ]
  },
  {
   "cell_type": "code",
   "execution_count": 36,
   "metadata": {},
   "outputs": [
    {
     "name": "stdout",
     "output_type": "stream",
     "text": [
      "Overwriting raw_original_instance.lp\n"
     ]
    }
   ],
   "source": [
    "%%file raw_original_instance.lp\n",
    "#program base.\n",
    "\n",
    "#const xsize = 4.\n",
    "#const ysize = 4.\n",
    "\n",
    "init(object(raw_node, (X,Y)), value(at, (X,Y))) :- X=1..xsize, Y=1..ysize.\n",
    "\n",
    "init(object(raw_robot,1),value(at,(1,4))).\n",
    "init(object(raw_robot,2),value(at,(4,4))).\n",
    "\n",
    "init(object(raw_shelf,1),value(at,(1,2))).\n",
    "init(object(raw_shelf,2),value(at,(4,2))).\n",
    "\n",
    "init(object(raw_product,1),value(on,(1,1))).\n",
    "init(object(raw_product,2),value(on,(2,1))).\n",
    "\n",
    "init(object(raw_pickingStation,1),value(at,(2,1))).\n",
    "\n",
    "init(object(raw_order,1),value(line,(1,1))).\n",
    "init(object(raw_order,1),value(pickingStation,1)).\n",
    "init(object(raw_order,2),value(line,(2,1))).\n",
    "init(object(raw_order,2),value(pickingStation,1))."
   ]
  },
  {
   "cell_type": "markdown",
   "metadata": {},
   "source": [
    "We then remove the `raw_` prefix to be able to load the original image in the visualizer."
   ]
  },
  {
   "cell_type": "code",
   "execution_count": 37,
   "metadata": {},
   "outputs": [
    {
     "name": "stdout",
     "output_type": "stream",
     "text": [
      "#program base.\r\n",
      "\r\n",
      "#const xsize = 4.\r\n",
      "#const ysize = 4.\r\n",
      "\r\n",
      "init(object(node, (X,Y)), value(at, (X,Y))) :- X=1..xsize, Y=1..ysize.\r\n",
      "\r\n",
      "init(object(robot,1),value(at,(1,4))).\r\n",
      "init(object(robot,2),value(at,(4,4))).\r\n",
      "\r\n",
      "init(object(shelf,1),value(at,(1,2))).\r\n",
      "init(object(shelf,2),value(at,(4,2))).\r\n",
      "\r\n",
      "init(object(product,1),value(on,(1,1))).\r\n",
      "init(object(product,2),value(on,(2,1))).\r\n",
      "\r\n",
      "init(object(pickingStation,1),value(at,(2,1))).\r\n",
      "\r\n",
      "init(object(order,1),value(line,(1,1))).\r\n",
      "init(object(order,1),value(pickingStation,1)).\r\n",
      "init(object(order,2),value(line,(2,1))).\r\n",
      "init(object(order,2),value(pickingStation,1)).\r\n"
     ]
    }
   ],
   "source": [
    "!rm -rf original_instance.lp\n",
    "!sed 's/raw_//g' raw_original_instance.lp >> original_instance.lp\n",
    "!cat original_instance.lp"
   ]
  },
  {
   "cell_type": "markdown",
   "metadata": {},
   "source": [
    "## Abstracting the instance\n",
    "\n",
    "Next, we are going to abstract the instance with this file. \n",
    "The logic loosely translates to: 'merge every square on the grid formed by 4 cells into one cell'"
   ]
  },
  {
   "cell_type": "code",
   "execution_count": 38,
   "metadata": {},
   "outputs": [
    {
     "name": "stdout",
     "output_type": "stream",
     "text": [
      "Overwriting abstracter.lp\n"
     ]
    }
   ],
   "source": [
    "%%file abstracter.lp\n",
    "\n",
    "\n",
    "% this line creates the abstracted nodes (works with any even xsize and ysize)\n",
    "init(object(node, (X2/2,Y2/2)), value(at, (X2/2,Y2/2))) :- init(object(raw_node, (X1,Y1)), value(at, (X1,Y1))), init(object(raw_node, (X1,Y2)), value(at, (X1,Y2))), init(object(raw_node, (X2,Y1)), value(at, (X2,Y1))), init(object(raw_node, (X2,Y2)), value(at, (X2,Y2))), X2>X1, Y2>Y1.\n",
    "\n",
    "% this creates the new abstract robots positions\n",
    "init(object(robot,N),value(at,((X+1)/2,(Y+1)/2))) :- init(object(raw_robot,N),value(at,(X,Y))).\n",
    "\n",
    "% this create the rest of the entites\n",
    "init(object(shelf,N),value(at,((X+1)/2,(Y+1)/2))) :- init(object(raw_shelf,N),value(at,(X,Y))).\n",
    "init(object(product,N),value(at,((X+1)/2,(Y+1)/2))) :- init(object(raw_product,N),value(at,(X,Y))).\n",
    "init(object(pickingStation,N),value(at,((X+1)/2,(Y+1)/2))) :- init(object(raw_pickingStation,N),value(at,(X,Y))).\n",
    "init(object(order,N),value(at,((X+1)/2,(Y+1)/2))) :- init(object(raw_order,N),value(at,(X,Y))).\n",
    "    \n",
    "%maybe try to only show the atoms, that dont have raw in them \n",
    "%#show init/2."
   ]
  },
  {
   "cell_type": "markdown",
   "metadata": {},
   "source": [
    "Running this with the clingo, gives us the abstracted instance.\n",
    "\n",
    "There were problems with how to export this abstracted instance, so that the solver can use it.\n",
    "\n",
    "The following commands creates the file `abstracted_instance.lp`, which is the final abstracted instance.\n",
    "Please note, that the raw atoms of the instance are still in there."
   ]
  },
  {
   "cell_type": "code",
   "execution_count": 39,
   "metadata": {},
   "outputs": [],
   "source": [
    "!rm abstracted_instance_raw.lp\n",
    "!clingo abstracter.lp raw_original_instance.lp --quiet=1 --opt-mode=OptN --out-ifs=\\\\n >> abstracted_instance_raw.lp"
   ]
  },
  {
   "cell_type": "code",
   "execution_count": 40,
   "metadata": {},
   "outputs": [],
   "source": [
    "!rm abstracted_instance_clean.lp\n",
    "!head -n $(( $(wc -l abstracted_instance_raw.lp | awk '{print $1}') - 6 )) abstracted_instance_raw.lp  >> abstracted_instance_clean.lp"
   ]
  },
  {
   "cell_type": "code",
   "execution_count": 41,
   "metadata": {},
   "outputs": [],
   "source": [
    "!rm abstracted_instance_cleanest.lp\n",
    "!tail -n $(( $(wc -l abstracted_instance_clean.lp | awk '{print $1}') - 4 )) abstracted_instance_clean.lp  >> abstracted_instance_cleanest.lp\n"
   ]
  },
  {
   "cell_type": "code",
   "execution_count": 42,
   "metadata": {},
   "outputs": [
    {
     "name": "stdout",
     "output_type": "stream",
     "text": [
      "init(object(raw_order,1),value(pickingStation,1)).\r\n",
      "init(object(raw_order,2),value(pickingStation,1)).\r\n",
      "init(object(raw_robot,1),value(at,(1,4))).\r\n",
      "init(object(raw_robot,2),value(at,(4,4))).\r\n",
      "init(object(raw_shelf,1),value(at,(1,2))).\r\n",
      "init(object(raw_shelf,2),value(at,(4,2))).\r\n",
      "init(object(raw_product,1),value(on,(1,1))).\r\n",
      "init(object(raw_product,2),value(on,(2,1))).\r\n",
      "init(object(raw_pickingStation,1),value(at,(2,1))).\r\n",
      "init(object(raw_order,1),value(line,(1,1))).\r\n",
      "init(object(raw_order,2),value(line,(2,1))).\r\n",
      "init(object(pickingStation,1),value(at,(1,1))).\r\n",
      "init(object(shelf,1),value(at,(1,1))).\r\n",
      "init(object(shelf,2),value(at,(2,1))).\r\n",
      "init(object(robot,1),value(at,(1,2))).\r\n",
      "init(object(robot,2),value(at,(2,2))).\r\n",
      "init(object(raw_node,(1,1)),value(at,(1,1))).\r\n",
      "init(object(raw_node,(2,1)),value(at,(2,1))).\r\n",
      "init(object(raw_node,(3,1)),value(at,(3,1))).\r\n",
      "init(object(raw_node,(4,1)),value(at,(4,1))).\r\n",
      "init(object(raw_node,(1,2)),value(at,(1,2))).\r\n",
      "init(object(raw_node,(2,2)),value(at,(2,2))).\r\n",
      "init(object(raw_node,(3,2)),value(at,(3,2))).\r\n",
      "init(object(raw_node,(4,2)),value(at,(4,2))).\r\n",
      "init(object(raw_node,(1,3)),value(at,(1,3))).\r\n",
      "init(object(raw_node,(2,3)),value(at,(2,3))).\r\n",
      "init(object(raw_node,(3,3)),value(at,(3,3))).\r\n",
      "init(object(raw_node,(4,3)),value(at,(4,3))).\r\n",
      "init(object(raw_node,(1,4)),value(at,(1,4))).\r\n",
      "init(object(raw_node,(2,4)),value(at,(2,4))).\r\n",
      "init(object(raw_node,(3,4)),value(at,(3,4))).\r\n",
      "init(object(raw_node,(4,4)),value(at,(4,4))).\r\n",
      "init(object(node,(1,1)),value(at,(1,1))).\r\n",
      "init(object(node,(2,1)),value(at,(2,1))).\r\n",
      "init(object(node,(1,2)),value(at,(1,2))).\r\n",
      "init(object(node,(2,2)),value(at,(2,2))).\r\n"
     ]
    }
   ],
   "source": [
    "!rm abstracted_instance.lp\n",
    "!cat abstracted_instance_cleanest.lp | while read line; do echo ${line}.; done >> abstracted_instance.lp\n",
    "!cat abstracted_instance.lp"
   ]
  },
  {
   "cell_type": "markdown",
   "metadata": {},
   "source": [
    "To visualize run the cell below"
   ]
  },
  {
   "cell_type": "code",
   "execution_count": 43,
   "metadata": {},
   "outputs": [
    {
     "name": "stdout",
     "output_type": "stream",
     "text": [
      "load file: abstracted_instance.lp\n",
      "SAT\n",
      "Try connection with solver\n",
      "Connect with solver\n",
      "Close connection to solver\n"
     ]
    }
   ],
   "source": [
    "!viz -t abstracted_instance.lp"
   ]
  },
  {
   "cell_type": "markdown",
   "metadata": {},
   "source": [
    "Exectute the following in a terminal to start the solver\n",
    "\n",
    "`cd m`\n",
    "\n",
    "`viz-solver --port 5001`\n",
    "\n",
    "Then, in another terminal run:\n",
    "\n",
    "`viz -t abstracted_instance.lp`\n",
    "\n",
    "This should open the visualisation of the instances. Then on `Network` choose `solve` and change the port to `5001`.\n",
    "After some time, the solution should appear on the right side.\n",
    "It should consist of occurs() statements and you can save that plan with `File>save plan` and save the plan as `abstracted_solution.lp`."
   ]
  },
  {
   "cell_type": "markdown",
   "metadata": {},
   "source": [
    "In case that didn't work, here is the solution for the first example instance."
   ]
  },
  {
   "cell_type": "code",
   "execution_count": 21,
   "metadata": {},
   "outputs": [
    {
     "name": "stdout",
     "output_type": "stream",
     "text": [
      "Overwriting abstracted_solution.lp\n"
     ]
    }
   ],
   "source": [
    "%%file abstracted_solution.lp\n",
    "occurs(object(robot, 1), action(move,(0,-1)), 1).\n",
    "occurs(object(robot, 2), action(move,(0,-1)), 1)."
   ]
  },
  {
   "cell_type": "markdown",
   "metadata": {},
   "source": [
    "## De-abstracting the solution\n",
    "We create the `deabstracter.lp` to map the abstracted solution to a solution in the original map dimensions.\n",
    "The basic idea is to add an extra step in the same direction for every move made in the abstracted solution. This corresponds to the fact that for every grid cell a robot moves in the abstracted map it has to move twice in the original map. "
   ]
  },
  {
   "cell_type": "code",
   "execution_count": 22,
   "metadata": {},
   "outputs": [
    {
     "name": "stdout",
     "output_type": "stream",
     "text": [
      "Overwriting deabstracter.lp\n"
     ]
    }
   ],
   "source": [
    "%%file deabstracter.lp\n",
    "\n",
    "% find max timestep\n",
    "t(T) :- occurs(object(robot, ID), action(move,(X,Y)), T).\n",
    "max_t(T) :- t(T), #max{TT, 1:t(TT)}=T.\n",
    "\n",
    "% assume goal is reachable by changing direction max 1 time\n",
    "% mark the first and second direction for each robot\n",
    "first((X, Y), ID) :- occurs(object(robot, ID), action(move,(X,Y)), 1).\n",
    "second((X2, Y2), ID) :- occurs(object(robot, ID), action(move,(X2,Y2)), T), max_t(T), first((X,Y), ID2), X!=X2, Y!=Y2, ID !=ID2.\n",
    "    \n",
    "% encode moves into single integer to be able to count them\n",
    "move(1,ID, T):-  occurs(object(robot, ID), action(move,(X,Y)), T), X=0, Y=-1.\n",
    "move(2,ID, T):-  occurs(object(robot, ID), action(move,(X,Y)), T), X=1, Y=0.\n",
    "move(3,ID, T):-  occurs(object(robot, ID), action(move,(X,Y)), T), X=-1, Y=0.\n",
    "move(4,ID, T):-  occurs(object(robot, ID), action(move,(X,Y)), T), X=0, Y=1.\n",
    "\n",
    "% count repetitions of each move for each robot\n",
    "count((0,-1),ID, N) :- move(1,ID, _), N = #count{move(1,ID, T): occurs(object(robot, ID), action(move,(0,-1)), T) }, N>0.\n",
    "count((1, 0),ID, N) :- move(1,ID, _), N = #count{move(1,ID, T): occurs(object(robot, ID), action(move,(1,0)), T) }, N>0.\n",
    "count((-1, 0),ID, N) :- move(1,ID, _), N = #count{move(1,ID, T): occurs(object(robot, ID), action(move,(-1,0)), T) }, N>0.\n",
    "count((0, 1),ID, N) :- move(1,ID, _), N = #count{move(1,ID, T): occurs(object(robot, ID), action(move,(0,1)), T) }, N>0.\n",
    "\n",
    "% set the target number of moves in deabstracted solution\n",
    "goal((X, Y), ID, N*2) :- count((X, Y), ID, N).\n",
    "\n",
    "% set the range of time-steps for each move for each robot\n",
    "range((X,Y), ID, (1, M)) :- first((X,Y), ID), goal((X, Y), ID, M).\n",
    "range((X2,Y2), ID, (M+1, M+M2)) :- second((X2,Y2), ID), goal((X2, Y2), ID, M2), first((X,Y), _), goal((X, Y),_, M).\n",
    "\n",
    "%finally generate the motion commands based on the range set\n",
    "new_occurs(object(robot, ID), action(move, (X, Y)), A) :- range((X,Y), ID, (A, _)).\n",
    "new_occurs(object(robot, ID), action(move, (X, Y)), T+1)  :- new_occurs(object(robot, ID), action(move, (X, Y)), T), range((X,Y), ID, (_, B)), T<B."
   ]
  },
  {
   "cell_type": "markdown",
   "metadata": {},
   "source": [
    "### Filter out the irrelevant atoms\n",
    "Clingo generates atoms of the form `new_occurs(...)` aditionally to the original `occurs(...)` atoms. With the the `awk '/new/ {{print}}'` command we filter out everything except the relevant atoms of the new plan, that is the `new_occurs(...)`. "
   ]
  },
  {
   "cell_type": "code",
   "execution_count": 23,
   "metadata": {},
   "outputs": [
    {
     "name": "stdout",
     "output_type": "stream",
     "text": [
      "deabstracter.lp:18:57-59: info: global variable in tuple of aggregate element:\n",
      "  ID\n",
      "\n",
      "deabstracter.lp:19:57-59: info: global variable in tuple of aggregate element:\n",
      "  ID\n",
      "\n",
      "deabstracter.lp:20:58-60: info: global variable in tuple of aggregate element:\n",
      "  ID\n",
      "\n",
      "deabstracter.lp:21:57-59: info: global variable in tuple of aggregate element:\n",
      "  ID\n",
      "\n",
      "new_occurs(object(robot,1),action(move,(0,-1)),1)\n",
      "new_occurs(object(robot,2),action(move,(0,-1)),1)\n",
      "new_occurs(object(robot,2),action(move,(0,-1)),2)\n",
      "new_occurs(object(robot,1),action(move,(0,-1)),2)\n"
     ]
    }
   ],
   "source": [
    "!rm -f deabstracted_solution_raw.lp\n",
    "\n",
    "#!clingo deabstracter.lp abstracted_solution.lp --quiet=1 --opt-mode=OptN --out-ifs=\\\\n\n",
    "!clingo deabstracter.lp abstracted_solution.lp --quiet=1 --opt-mode=OptN --out-ifs=\\\\n | awk '/new/ {{print}}' >> deabstracted_solution_raw.lp\n",
    "!cat deabstracted_solution_raw.lp"
   ]
  },
  {
   "cell_type": "markdown",
   "metadata": {},
   "source": [
    "### Rename atoms in solution file back to original format\n",
    "We then rename the `new_occurs(...)` to the original `occurs(..)` format. This `deabstracted_solution.lp` file can then be loaded in the vizualisation tool as a plan to solve the original instance. Note that the search for a solution only happened in the abstracted instance."
   ]
  },
  {
   "cell_type": "code",
   "execution_count": 24,
   "metadata": {},
   "outputs": [
    {
     "name": "stdout",
     "output_type": "stream",
     "text": [
      "occurs(object(robot,1),action(move,(0,-1)),1).\r\n",
      "occurs(object(robot,2),action(move,(0,-1)),1).\r\n",
      "occurs(object(robot,2),action(move,(0,-1)),2).\r\n",
      "occurs(object(robot,1),action(move,(0,-1)),2).\r\n"
     ]
    }
   ],
   "source": [
    "!rm -rf deabstracted_solution_final.lp\n",
    "!sed 's/new_//g' deabstracted_solution_raw.lp > deabstracted_solution_clean.lp\n",
    "!sed 's/$/\\./'  deabstracted_solution_clean.lp  > deabstracted_solution_final.lp\n",
    "!cat deabstracted_solution_final.lp"
   ]
  },
  {
   "cell_type": "code",
   "execution_count": 25,
   "metadata": {},
   "outputs": [
    {
     "name": "stdout",
     "output_type": "stream",
     "text": [
      "load file: original_instance.lp\n",
      "SAT\n",
      "load file: /home/sam/Code/mapf/mapf_asprillo_alex_sam/deabstracted_solution_final.lp\n",
      "SAT\n"
     ]
    }
   ],
   "source": [
    "!viz -t original_instance.lp"
   ]
  },
  {
   "cell_type": "markdown",
   "metadata": {},
   "source": [
    "Now you can load the plan `deabstracted_solution_clean.lp` into the visualizer et voila."
   ]
  },
  {
   "cell_type": "markdown",
   "metadata": {},
   "source": [
    "##"
   ]
  }
 ],
 "metadata": {
  "kernelspec": {
   "display_name": "Python 3 (ipykernel)",
   "language": "python",
   "name": "python3"
  },
  "language_info": {
   "codemirror_mode": {
    "name": "ipython",
    "version": 3
   },
   "file_extension": ".py",
   "mimetype": "text/x-python",
   "name": "python",
   "nbconvert_exporter": "python",
   "pygments_lexer": "ipython3",
   "version": "3.9.0"
  },
  "vscode": {
   "interpreter": {
    "hash": "e552c6793b9d50f73d8bb8ea7cf3483f226407d2e8ca91fe80e08deee37615aa"
   }
  }
 },
 "nbformat": 4,
 "nbformat_minor": 2
}
