{
 "cells": [
  {
   "cell_type": "markdown",
   "metadata": {},
   "source": [
    "# MAPF with Abstraction"
   ]
  },
  {
   "cell_type": "markdown",
   "metadata": {},
   "source": [
    "First, we are going to create the instance, we are trying to solve.\n",
    "\n",
    "We decided to go for a simple grid with the variable xsize and ysize.\n",
    "We are at this point constrained to even x and y axis, which could be optimized in the future.\n",
    "\n",
    "Also you can change the agents' location and their goals.\n"
   ]
  },
  {
   "cell_type": "code",
   "execution_count": 182,
   "metadata": {},
   "outputs": [
    {
     "name": "stdout",
     "output_type": "stream",
     "text": [
      "Overwriting original_instance.lp\n"
     ]
    }
   ],
   "source": [
    "%%file original_instance.lp\n",
    "#program base.\n",
    "\n",
    "#const xsize = 4.\n",
    "#const ysize = 4.\n",
    "\n",
    "init(object(raw_node, (X,Y)), value(at, (X,Y))) :- X=1..xsize, Y=1..ysize.\n",
    "\n",
    "init(object(raw_robot,1),value(at,(1,4))).\n",
    "init(object(raw_robot,2),value(at,(4,4))).\n",
    "\n",
    "init(object(raw_shelf,1),value(at,(1,1))).\n",
    "init(object(raw_shelf,2),value(at,(4,1))).\n",
    "\n",
    "init(object(raw_product,1),value(on,(1,1))).\n",
    "init(object(raw_product,2),value(on,(2,1))).\n",
    "\n",
    "init(object(raw_pickingStation,1),value(at,(2,1))).\n",
    "\n",
    "init(object(raw_order,1),value(line,(1/3,1))).\n",
    "init(object(raw_order,1),value(pickingStation,1)).\n",
    "init(object(raw_order,2),value(line,(2,1))).\n",
    "init(object(raw_order,2),value(pickingStation,1))."
   ]
  },
  {
   "cell_type": "markdown",
   "metadata": {},
   "source": [
    "## Abstracting the instance\n",
    "\n",
    "Next, we are going to abstract the instance with this file. \n",
    "The logic loosely translates to: 'merge every 4 cells into one cell'"
   ]
  },
  {
   "cell_type": "code",
   "execution_count": 183,
   "metadata": {},
   "outputs": [
    {
     "name": "stdout",
     "output_type": "stream",
     "text": [
      "Overwriting abstracter.lp\n"
     ]
    }
   ],
   "source": [
    "%%file abstracter.lp\n",
    "\n",
    "\n",
    "% this line creates the abstracted nodes (works with any even xsize and ysize)\n",
    "init(object(node, (X2/2,Y2/2)), value(at, (X2/2,Y2/2))) :- init(object(raw_node, (X1,Y1)), value(at, (X1,Y1))), init(object(raw_node, (X1,Y2)), value(at, (X1,Y2))), init(object(raw_node, (X2,Y1)), value(at, (X2,Y1))), init(object(raw_node, (X2,Y2)), value(at, (X2,Y2))), X2>X1, Y2>Y1.\n",
    "\n",
    "% this creates the new abstract robots positions\n",
    "init(object(robot,N),value(at,((X+1)/2,(Y+1)/2))) :- init(object(raw_robot,N),value(at,(X,Y))).\n",
    "\n",
    "% this create the rest of the entites\n",
    "init(object(shelf,N),value(at,((X+1)/2,(Y+1)/2))) :- init(object(raw_shelf,N),value(at,(X,Y))).\n",
    "init(object(product,N),value(at,((X+1)/2,(Y+1)/2))) :- init(object(raw_product,N),value(at,(X,Y))).\n",
    "init(object(pickingStation,N),value(at,((X+1)/2,(Y+1)/2))) :- init(object(raw_pickingStation,N),value(at,(X,Y))).\n",
    "init(object(order,N),value(at,((X+1)/2,(Y+1)/2))) :- init(object(raw_order,N),value(at,(X,Y))).\n",
    "    \n",
    "%maybe try to only show the atoms, that dont have raw in them \n",
    "%#show init/2."
   ]
  },
  {
   "cell_type": "markdown",
   "metadata": {},
   "source": [
    "Running this with the clingo, gives us the abstracted instance.\n",
    "\n",
    "There were problems with how to export this abstracted instance, so that the solver can use it.\n",
    "\n",
    "The following commands creates the file `abstracted_instance.lp`, which is the final abstracted instance.\n",
    "Please note, that the raw atoms of the instance are still in there."
   ]
  },
  {
   "cell_type": "code",
   "execution_count": 184,
   "metadata": {},
   "outputs": [],
   "source": [
    "!rm abstracted_instance_raw.lp\n",
    "!clingo abstracter.lp original_instance.lp --quiet=1 --opt-mode=OptN --out-ifs=\\\\n >> abstracted_instance_raw.lp"
   ]
  },
  {
   "cell_type": "code",
   "execution_count": 185,
   "metadata": {},
   "outputs": [],
   "source": [
    "!rm abstracted_instance_clean.lp\n",
    "!head -n $(( $(wc -l abstracted_instance_raw.lp | awk '{print $1}') - 6 )) abstracted_instance_raw.lp  >> abstracted_instance_clean.lp"
   ]
  },
  {
   "cell_type": "code",
   "execution_count": 186,
   "metadata": {},
   "outputs": [],
   "source": [
    "!rm abstracted_instance_cleanest.lp\n",
    "!tail -n $(( $(wc -l abstracted_instance_clean.lp | awk '{print $1}') - 4 )) abstracted_instance_clean.lp  >> abstracted_instance_cleanest.lp\n"
   ]
  },
  {
   "cell_type": "code",
   "execution_count": 187,
   "metadata": {},
   "outputs": [],
   "source": [
    "!rm abstracted_instance.lp\n",
    "!cat abstracted_instance_cleanest.lp | while read line; do echo ${line}.; done >> abstracted_instance.lp"
   ]
  },
  {
   "cell_type": "markdown",
   "metadata": {},
   "source": [
    "Exectute the following in a terminal to start the solver\n",
    "\n",
    "`cd m`\n",
    "\n",
    "`viz-solver --port 5001`\n",
    "\n",
    "Then, in another terminal run:\n",
    "\n",
    "`viz -t abstracted_instance_cleanest.lp`\n",
    "\n",
    "This should open the visualisation of the instances. Then on `Network` choose `solve` and change the port to `5001`.\n",
    "After some time, the solution should appear on the right side.\n",
    "It should consist of occurs() statements and you can save that plan with `File>save plan` and save the plan as `abstracted_instance_raw.lp`."
   ]
  },
  {
   "cell_type": "markdown",
   "metadata": {},
   "source": [
    "In case that didn't work, here is the solution for the first example instance."
   ]
  },
  {
   "cell_type": "code",
   "execution_count": 18,
   "metadata": {},
   "outputs": [
    {
     "name": "stdout",
     "output_type": "stream",
     "text": [
      "Writing abstract_solution.lp\n"
     ]
    }
   ],
   "source": [
    "%%file abstracted_solution.lp\n",
    "occurs(object(robot, 1), action(move,(0,-1)), 1).\n",
    "occurs(object(robot, 1), action(move,(0,-1)), 2).  \n",
    "occurs(object(robot, 1), action(move,(1,0)), 3).\n",
    "occurs(object(robot, 1), action(move,(1,0)), 4). \n",
    "occurs(object(robot, 1), action(move,(1,0)), 5). \n",
    "\n",
    "occurs(object(robot, 2), action(move,(0,-1)), 1).\n",
    "occurs(object(robot, 2), action(move,(0,-1)), 2)."
   ]
  },
  {
   "cell_type": "code",
   "execution_count": 188,
   "metadata": {},
   "outputs": [
    {
     "name": "stdout",
     "output_type": "stream",
     "text": [
      "Overwriting deabstracter.lp\n"
     ]
    }
   ],
   "source": [
    "%%file deabstracter.lp\n",
    "\n",
    "% find max timestep\n",
    "t(T) :- occurs(object(robot, ID), action(move,(X,Y)), T).\n",
    "max_t(T) :- t(T), #max{TT, 1:t(TT)}=T.\n",
    "\n",
    "% assume goal is reachable by changing direction max 1 time\n",
    "% mark the first and second direction for each robot\n",
    "first((X, Y), ID) :- occurs(object(robot, ID), action(move,(X,Y)), 1).\n",
    "second((X2, Y2), ID) :- occurs(object(robot, ID), action(move,(X2,Y2)), T), max_t(T), first((X,Y), ID2), ID !=ID2.\n",
    "    \n",
    "% encode moves into single integer to be able to count them\n",
    "move(1,ID, T):-  occurs(object(robot, ID), action(move,(X,Y)), T), X=0, Y=-1.\n",
    "move(2,ID, T):-  occurs(object(robot, ID), action(move,(X,Y)), T), X=1, Y=0.\n",
    "move(3,ID, T):-  occurs(object(robot, ID), action(move,(X,Y)), T), X=-1, Y=0.\n",
    "move(4,ID, T):-  occurs(object(robot, ID), action(move,(X,Y)), T), X=0, Y=1.\n",
    "\n",
    "% count repetitions of each move for each robot\n",
    "count((0,-1),ID, N) :- move(1,ID, _), N = #count{move(1,ID, T): occurs(object(robot, ID), action(move,(0,-1)), T) }, N>0.\n",
    "count((1, 0),ID, N) :- move(1,ID, _), N = #count{move(1,ID, T): occurs(object(robot, ID), action(move,(1,0)), T) }, N>0.\n",
    "count((-1, 0),ID, N) :- move(1,ID, _), N = #count{move(1,ID, T): occurs(object(robot, ID), action(move,(-1,0)), T) }, N>0.\n",
    "count((0, 1),ID, N) :- move(1,ID, _), N = #count{move(1,ID, T): occurs(object(robot, ID), action(move,(0,1)), T) }, N>0.\n",
    "\n",
    "% set the target number of moves in deabstracted solution\n",
    "goal((X, Y), ID, N*2) :- count((X, Y), ID, N).\n",
    "\n",
    "% set the range of time-steps for each move for each robot\n",
    "range((X,Y), ID, (1, M)) :- first((X,Y), ID), goal((X, Y), ID, M).\n",
    "range((X2,Y2), ID, (M+1, M+M2)) :- second((X2,Y2), ID), goal((X2, Y2), ID, M2), first((X,Y), _), goal((X, Y),_, M).\n",
    "\n",
    "%finally generate the motion commands based on the range set\n",
    "new_occurs(object(robot, ID), action(move, (X, Y)), A) :- range((X,Y), ID, (A, _)).\n",
    "new_occurs(object(robot, ID), action(move, (X, Y)), T+1)  :- new_occurs(object(robot, ID), action(move, (X, Y)), T), range((X,Y), ID, (_, B)), T<B."
   ]
  },
  {
   "cell_type": "code",
   "execution_count": 189,
   "metadata": {},
   "outputs": [
    {
     "name": "stdout",
     "output_type": "stream",
     "text": [
      "clingo version 5.6.0\n",
      "Reading from deabstracter.lp ...\n",
      "deabstracter.lp:18:57-59: info: global variable in tuple of aggregate element:\n",
      "  ID\n",
      "\n",
      "deabstracter.lp:19:57-59: info: global variable in tuple of aggregate element:\n",
      "  ID\n",
      "\n",
      "deabstracter.lp:20:58-60: info: global variable in tuple of aggregate element:\n",
      "  ID\n",
      "\n",
      "deabstracter.lp:21:57-59: info: global variable in tuple of aggregate element:\n",
      "  ID\n",
      "\n",
      "Solving...\n",
      "Answer: 1\n",
      "occurs(object(robot,1),action(move,(0,-1)),2)\n",
      "occurs(object(robot,1),action(move,(0,1)),3)\n",
      "occurs(object(robot,1),action(move,(0,-1)),10)\n",
      "occurs(object(robot,1),action(move,(0,1)),11)\n",
      "occurs(object(robot,2),action(move,(0,-1)),2)\n",
      "occurs(object(robot,2),action(move,(0,1)),4)\n",
      "t(2)\n",
      "t(3)\n",
      "t(10)\n",
      "t(11)\n",
      "t(4)\n",
      "max_t(11)\n",
      "move(1,1,2)\n",
      "move(1,1,10)\n",
      "move(1,2,2)\n",
      "move(4,1,3)\n",
      "move(4,1,11)\n",
      "move(4,2,4)\n",
      "count((0,-1),1,2)\n",
      "count((0,-1),2,1)\n",
      "count((0,1),1,2)\n",
      "count((0,1),2,1)\n",
      "goal((0,-1),1,4)\n",
      "goal((0,-1),2,2)\n",
      "goal((0,1),1,4)\n",
      "goal((0,1),2,2)\n",
      "SATISFIABLE\n",
      "\n",
      "Models       : 1\n",
      "Calls        : 1\n",
      "Time         : 0.006s (Solving: 0.00s 1st Model: 0.00s Unsat: 0.00s)\n",
      "CPU Time     : 0.005s\n"
     ]
    }
   ],
   "source": [
    "!clingo deabstracter.lp abstracted_solution.lp --out-ifs=\\\\n "
   ]
  },
  {
   "cell_type": "code",
   "execution_count": null,
   "metadata": {},
   "outputs": [],
   "source": []
  }
 ],
 "metadata": {
  "kernelspec": {
   "display_name": "Python 3.9.12 ('myenv')",
   "language": "python",
   "name": "python3"
  },
  "language_info": {
   "codemirror_mode": {
    "name": "ipython",
    "version": 3
   },
   "file_extension": ".py",
   "mimetype": "text/x-python",
   "name": "python",
   "nbconvert_exporter": "python",
   "pygments_lexer": "ipython3",
   "version": "3.9.12"
  },
  "orig_nbformat": 4,
  "vscode": {
   "interpreter": {
    "hash": "e552c6793b9d50f73d8bb8ea7cf3483f226407d2e8ca91fe80e08deee37615aa"
   }
  }
 },
 "nbformat": 4,
 "nbformat_minor": 2
}
