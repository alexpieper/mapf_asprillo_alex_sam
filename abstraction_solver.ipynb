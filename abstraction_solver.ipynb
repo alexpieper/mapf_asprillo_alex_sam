{
 "cells": [
  {
   "cell_type": "code",
   "execution_count": 1,
   "metadata": {},
   "outputs": [
    {
     "name": "stdout",
     "output_type": "stream",
     "text": [
      "Writing generatedInstances/easy_instance_2.lp\n"
     ]
    }
   ],
   "source": [
    "%%file generatedInstances/easy_instance.lp\n",
    "%%%%%%%%%%%%%%%%%%%%%%%%%%%%%%%%%%%%%%%%%%%%%%%%%%%%%%%%%%%%\n",
    "% Grid Size X:                      4\n",
    "% Grid Size Y:                      4\n",
    "% Number of Nodes:                  16\n",
    "% Number of Robots:                 2\n",
    "% Number of Shelves:                2\n",
    "% Number of picking stations:       1\n",
    "% Number of products:               2\n",
    "% Number of product units in total: 2\n",
    "% Number of orders:                 2\n",
    "%%%%%%%%%%%%%%%%%%%%%%%%%%%%%%%%%%%%%%%%%%%%%%%%%%%%%%%%%%%%\n",
    "#program base.\n",
    "\n",
    "#const xsize = 4.\n",
    "#const ysize = 4.\n",
    "\n",
    "init(object(node, (X,Y)), value(at, (X,Y))) :- X=1..xsize, Y=1..ysize.\n",
    "\n",
    "init(object(robot,1),value(at,(1,4))).\n",
    "init(object(robot,2),value(at,(4,4))).\n",
    "\n",
    "init(object(shelf,1),value(at,(1,1))).\n",
    "init(object(shelf,2),value(at,(4,1))).\n",
    "\n",
    "init(object(product,1),value(on,(1,1))).\n",
    "init(object(product,2),value(on,(2,1))).\n",
    "\n",
    "init(object(pickingStation,1),value(at,(2,1))).\n",
    "\n",
    "init(object(order,1),value(line,(1,1))).\n",
    "init(object(order,1),value(pickingStation,1)).\n",
    "init(object(order,2),value(line,(2,1))).\n",
    "init(object(order,2),value(pickingStation,1))."
   ]
  },
  {
   "cell_type": "code",
   "execution_count": 2,
   "metadata": {},
   "outputs": [
    {
     "name": "stdout",
     "output_type": "stream",
     "text": [
      "Overwriting generatedInstances/easy_instance_abstracted.lp\n"
     ]
    }
   ],
   "source": [
    "%%file generatedInstances/easy_instance_abstracted.lp\n",
    "%%%%%%%%%%%%%%%%%%%%%%%%%%%%%%%%%%%%%%%%%%%%%%%%%%%%%%%%%%%%\n",
    "% Grid Size X:                      2\n",
    "% Grid Size Y:                      2\n",
    "% Number of Nodes:                  4\n",
    "% Number of Robots:                 2\n",
    "% Number of Shelves:                2\n",
    "% Number of picking stations:       1\n",
    "% Number of products:               2\n",
    "% Number of product units in total: 4\n",
    "% Number of orders:                 2\n",
    "%%%%%%%%%%%%%%%%%%%%%%%%%%%%%%%%%%%%%%%%%%%%%%%%%%%%%%%%%%%%\n",
    "#program base.\n",
    "\n",
    "% init\n",
    "init(object(node,1),value(at,(1,1))).\n",
    "init(object(node,2),value(at,(2,1))).\n",
    "init(object(node,3),value(at,(1,2))).\n",
    "init(object(node,4),value(at,(2,2))).\n",
    "\n",
    "init(object(robot,1),value(at,(1,2))).\n",
    "init(object(robot,2),value(at,(2,2))).\n",
    "\n",
    "init(object(shelf,1),value(at,(1,1))).\n",
    "init(object(shelf,2),value(at,(2,1))).\n",
    "\n",
    "init(object(pickingStation,1),value(at,(2,1))).\n",
    "\n",
    "init(object(product,1),value(on,(1,1))).\n",
    "init(object(product,2),value(on,(2,1))).\n",
    "\n",
    "init(object(order,1),value(line,(1,1))).\n",
    "init(object(order,1),value(pickingStation,1)).\n",
    "init(object(order,2),value(line,(2,1))).\n",
    "init(object(order,2),value(pickingStation,1)).\n",
    "\n",
    "\n"
   ]
  },
  {
   "cell_type": "markdown",
   "metadata": {},
   "source": [
    "First we can check if the instance itself is SATISFIABLE"
   ]
  },
  {
   "cell_type": "code",
   "execution_count": 11,
   "metadata": {},
   "outputs": [
    {
     "name": "stdout",
     "output_type": "stream",
     "text": [
      "clingo version 5.5.2\n",
      "Reading from generatedInstances/easy_instance.lp\n",
      "Solving...\n",
      "Answer: 1\n",
      "init(object(order,1),value(pickingStation,1)) init(object(order,2),value(pickingStation,1)) init(object(robot,1),value(at,(1,4))) init(object(robot,2),value(at,(4,4))) init(object(shelf,1),value(at,(1,1))) init(object(shelf,2),value(at,(4,1))) init(object(product,1),value(on,(1,1))) init(object(product,2),value(on,(2,1))) init(object(pickingStation,1),value(at,(2,1))) init(object(order,1),value(line,(1,1))) init(object(order,2),value(line,(2,1))) init(object(node,(1,1)),value(at,(1,1))) init(object(node,(1,2)),value(at,(1,2))) init(object(node,(1,3)),value(at,(1,3))) init(object(node,(1,4)),value(at,(1,4))) init(object(node,(2,1)),value(at,(2,1))) init(object(node,(2,2)),value(at,(2,2))) init(object(node,(2,3)),value(at,(2,3))) init(object(node,(2,4)),value(at,(2,4))) init(object(node,(3,1)),value(at,(3,1))) init(object(node,(3,2)),value(at,(3,2))) init(object(node,(3,3)),value(at,(3,3))) init(object(node,(3,4)),value(at,(3,4))) init(object(node,(4,1)),value(at,(4,1))) init(object(node,(4,2)),value(at,(4,2))) init(object(node,(4,3)),value(at,(4,3))) init(object(node,(4,4)),value(at,(4,4)))\n",
      "SATISFIABLE\n",
      "\n",
      "Models       : 1\n",
      "Calls        : 1\n",
      "Time         : 0.001s (Solving: 0.00s 1st Model: 0.00s Unsat: 0.00s)\n",
      "CPU Time     : 0.001s\n"
     ]
    }
   ],
   "source": [
    "!clingo generatedInstances/easy_instance.lp"
   ]
  },
  {
   "cell_type": "markdown",
   "metadata": {},
   "source": [
    "Here we are trying to cread the abstraction inside an .lp file.\n",
    "\n",
    "Since I didn't find any way of importing a file, I guess i have to copy the instance in here for now.\n",
    "\n",
    "I went back to the ASP Course where we did Sodoku, and there we also used Python logic to call clingo instance.lp encoding.lp, but since we are not supposed to do that, we will limit the functionality for now."
   ]
  },
  {
   "cell_type": "code",
   "execution_count": 63,
   "metadata": {},
   "outputs": [
    {
     "name": "stdout",
     "output_type": "stream",
     "text": [
      "Overwriting abstract_instances.lp\n"
     ]
    }
   ],
   "source": [
    "%%file abstract_instances.lp\n",
    "#program base.\n",
    "\n",
    "#const xsize = 4.\n",
    "#const ysize = 4.\n",
    "\n",
    "init(object(node, (X,Y)), value(at, (X,Y))) :- X=1..xsize, Y=1..ysize.\n",
    "\n",
    "init(object(robot,1),value(at,(1,4))).\n",
    "init(object(robot,2),value(at,(4,4))).\n",
    "\n",
    "init(object(shelf,1),value(at,(1,1))).\n",
    "init(object(shelf,2),value(at,(4,1))).\n",
    "\n",
    "init(object(product,1),value(on,(1,1))).\n",
    "init(object(product,2),value(on,(2,1))).\n",
    "\n",
    "init(object(pickingStation,1),value(at,(2,1))).\n",
    "\n",
    "init(object(order,1),value(line,(1/3,1))).\n",
    "init(object(order,1),value(pickingStation,1)).\n",
    "init(object(order,2),value(line,(2,1))).\n",
    "init(object(order,2),value(pickingStation,1)).\n",
    "\n",
    "\n",
    "\n",
    "% this line creates the abstracted nodes (works with any even xsize and ysize)\n",
    "init(object(abstract_node, (X2/2,Y2/2)), value(at, (X2/2,Y2/2))) :- init(object(node, (X1,Y1)), value(at, (X1,Y1))), init(object(node, (X1,Y2)), value(at, (X1,Y2))), init(object(node, (X2,Y1)), value(at, (X2,Y1))), init(object(node, (X2,Y2)), value(at, (X2,Y2))), X2>X1, Y2>Y1.\n",
    "\n",
    "% this creates the new abstract robots positions\n",
    "init(object(abstract_robot,N),value(at,((X+1)/2,(Y+1)/2))) :- init(object(robot,N),value(at,(X,Y))).\n",
    "\n",
    "% this create the rest of the entites\n",
    "init(object(abstract_shelf,N),value(at,((X+1)/2,(Y+1)/2))) :- init(object(shelf,N),value(at,(X,Y))).\n",
    "init(object(abstract_product,N),value(at,((X+1)/2,(Y+1)/2))) :- init(object(product,N),value(at,(X,Y))).\n",
    "init(object(abstract_pickingStation,N),value(at,((X+1)/2,(Y+1)/2))) :- init(object(pickingStation,N),value(at,(X,Y))).\n",
    "init(object(abstract_order,N),value(at,((X+1)/2,(Y+1)/2))) :- init(object(order,N),value(at,(X,Y))).\n",
    "\n",
    "\n"
   ]
  },
  {
   "cell_type": "code",
   "execution_count": 62,
   "metadata": {},
   "outputs": [
    {
     "name": "stdout",
     "output_type": "stream",
     "text": [
      "clingo version 5.5.2\n",
      "Reading from abstract_instances.lp\n",
      "Solving...\n",
      "Answer: 1\n",
      "init(object(order,1),value(pickingStation,1)) init(object(order,2),value(pickingStation,1)) init(object(robot,1),value(at,(1,4))) init(object(robot,2),value(at,(4,4))) init(object(shelf,1),value(at,(1,1))) init(object(shelf,2),value(at,(4,1))) init(object(product,1),value(on,(1,1))) init(object(product,2),value(on,(2,1))) init(object(pickingStation,1),value(at,(2,1))) init(object(order,1),value(line,(0,1))) init(object(order,2),value(line,(2,1))) init(object(abstract_pickingStation,1),value(at,(1,1))) init(object(abstract_shelf,1),value(at,(1,1))) init(object(abstract_shelf,2),value(at,(2,1))) init(object(abstract_robot,1),value(at,(1,2))) init(object(abstract_robot,2),value(at,(2,2))) init(object(node,(1,1)),value(at,(1,1))) init(object(node,(2,1)),value(at,(2,1))) init(object(node,(3,1)),value(at,(3,1))) init(object(node,(4,1)),value(at,(4,1))) init(object(node,(5,1)),value(at,(5,1))) init(object(node,(6,1)),value(at,(6,1))) init(object(node,(1,2)),value(at,(1,2))) init(object(node,(2,2)),value(at,(2,2))) init(object(node,(3,2)),value(at,(3,2))) init(object(node,(4,2)),value(at,(4,2))) init(object(node,(5,2)),value(at,(5,2))) init(object(node,(6,2)),value(at,(6,2))) init(object(node,(1,3)),value(at,(1,3))) init(object(node,(2,3)),value(at,(2,3))) init(object(node,(3,3)),value(at,(3,3))) init(object(node,(4,3)),value(at,(4,3))) init(object(node,(5,3)),value(at,(5,3))) init(object(node,(6,3)),value(at,(6,3))) init(object(node,(1,4)),value(at,(1,4))) init(object(node,(2,4)),value(at,(2,4))) init(object(node,(3,4)),value(at,(3,4))) init(object(node,(4,4)),value(at,(4,4))) init(object(node,(5,4)),value(at,(5,4))) init(object(node,(6,4)),value(at,(6,4))) init(object(abstract_node,(1,1)),value(at,(1,1))) init(object(abstract_node,(2,1)),value(at,(2,1))) init(object(abstract_node,(3,1)),value(at,(3,1))) init(object(abstract_node,(1,2)),value(at,(1,2))) init(object(abstract_node,(2,2)),value(at,(2,2))) init(object(abstract_node,(3,2)),value(at,(3,2)))\n",
      "SATISFIABLE\n",
      "\n",
      "Models       : 1\n",
      "Calls        : 1\n",
      "Time         : 0.002s (Solving: 0.00s 1st Model: 0.00s Unsat: 0.00s)\n",
      "CPU Time     : 0.002s\n"
     ]
    }
   ],
   "source": [
    "!clingo abstract_instances.lp"
   ]
  },
  {
   "cell_type": "code",
   "execution_count": null,
   "metadata": {},
   "outputs": [],
   "source": []
  }
 ],
 "metadata": {
  "kernelspec": {
   "display_name": "Python 3.8.9 64-bit",
   "language": "python",
   "name": "python3"
  },
  "language_info": {
   "codemirror_mode": {
    "name": "ipython",
    "version": 3
   },
   "file_extension": ".py",
   "mimetype": "text/x-python",
   "name": "python",
   "nbconvert_exporter": "python",
   "pygments_lexer": "ipython3",
   "version": "3.8.9"
  },
  "orig_nbformat": 4,
  "vscode": {
   "interpreter": {
    "hash": "31f2aee4e71d21fbe5cf8b01ff0e069b9275f58929596ceb00d14d90e3e16cd6"
   }
  }
 },
 "nbformat": 4,
 "nbformat_minor": 2
}
