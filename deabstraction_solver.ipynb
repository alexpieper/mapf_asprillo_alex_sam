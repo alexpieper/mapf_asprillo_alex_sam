{
 "cells": [
  {
   "cell_type": "markdown",
   "id": "07604f9c",
   "metadata": {},
   "source": [
    "### we need to map this solution\n",
    "```\n",
    "occurs(object(robot, 1), action(move,(0,-1)), 1).\n",
    "occurs(object(robot, 1), action(move,(0,-1)), 2).  \n",
    "```\n",
    "### to this solution\n",
    "\n",
    "```\n",
    "occurs(object(robot, 1), action(move,(0,-1)), 1). \n",
    "occurs(object(robot, 1), action(move,(0,-1)), 2). \n",
    "occurs(object(robot, 1), action(move,(0,-1)), 3).\n",
    "occurs(object(robot, 2), action(move,(0,-1)), 1).\n",
    "occurs(object(robot, 2), action(move,(0,-1)), 2).\n",
    "occurs(object(robot, 2), action(move,(0,-1)), 3).\n",
    "```"
   ]
  },
  {
   "cell_type": "code",
   "execution_count": 139,
   "id": "23297b29",
   "metadata": {},
   "outputs": [
    {
     "name": "stdout",
     "output_type": "stream",
     "text": [
      "Overwriting abstract_solution.lp\n"
     ]
    }
   ],
   "source": [
    "%%file abstract_solution.lp\n",
    "occurs(object(robot, 1), action(move,(0,-1)), 1).\n",
    "occurs(object(robot, 1), action(move,(0,-1)), 2).  \n",
    "occurs(object(robot, 1), action(move,(1,0)), 3).\n",
    "occurs(object(robot, 1), action(move,(1,0)), 4). \n",
    "occurs(object(robot, 1), action(move,(1,0)), 5). \n",
    "\n",
    "occurs(object(robot, 2), action(move,(0,-1)), 1).\n",
    "occurs(object(robot, 2), action(move,(0,-1)), 2).\n"
   ]
  },
  {
   "cell_type": "code",
   "execution_count": 152,
   "id": "6924c8f0",
   "metadata": {},
   "outputs": [
    {
     "name": "stdout",
     "output_type": "stream",
     "text": [
      "Overwriting deabstracter.lp\n"
     ]
    }
   ],
   "source": [
    "%%file deabstracter.lp\n",
    "\n",
    "% find max timestep\n",
    "t(T) :- occurs(object(robot, ID), action(move,(X,Y)), T).\n",
    "max_t(T) :- t(T), #max{TT, 1:t(TT)}=T.\n",
    "\n",
    "% assume goal is reachable by changing direction max 1 time\n",
    "% mark the first and second direction for each robot\n",
    "first((X, Y), ID) :- occurs(object(robot, ID), action(move,(X,Y)), 1).\n",
    "second((X2, Y2), ID) :- occurs(object(robot, ID), action(move,(X2,Y2)), T), max_t(T), first((X,Y), ID2), ID !=ID2.\n",
    "    \n",
    "% encode moves into single integer to be able to count them\n",
    "move(1,ID, T):-  occurs(object(robot, ID), action(move,(X,Y)), T), X=0, Y=-1.\n",
    "move(2,ID, T):-  occurs(object(robot, ID), action(move,(X,Y)), T), X=1, Y=0.\n",
    "move(3,ID, T):-  occurs(object(robot, ID), action(move,(X,Y)), T), X=-1, Y=0.\n",
    "move(4,ID, T):-  occurs(object(robot, ID), action(move,(X,Y)), T), X=0, Y=1.\n",
    "\n",
    "% count repetitions of each move for each robot\n",
    "count((0,-1),ID, N) :- move(1,ID, _), N = #count{move(1,ID, T): occurs(object(robot, ID), action(move,(0,-1)), T) }, N>0.\n",
    "count((1, 0),ID, N) :- move(1,ID, _), N = #count{move(1,ID, T): occurs(object(robot, ID), action(move,(1,0)), T) }, N>0.\n",
    "count((-1, 0),ID, N) :- move(1,ID, _), N = #count{move(1,ID, T): occurs(object(robot, ID), action(move,(-1,0)), T) }, N>0.\n",
    "count((0, 1),ID, N) :- move(1,ID, _), N = #count{move(1,ID, T): occurs(object(robot, ID), action(move,(0,1)), T) }, N>0.\n",
    "\n",
    "% set the target number of moves in deabstracted solution\n",
    "goal((X, Y), ID, N*2) :- count((X, Y), ID, N).\n",
    "\n",
    "% set the range of time-steps for each move for each robot\n",
    "range((X,Y), ID, (1, M)) :- first((X,Y), ID), goal((X, Y), ID, M).\n",
    "range((X2,Y2), ID, (M+1, M+M2)) :- second((X2,Y2), ID), goal((X2, Y2), ID, M2), first((X,Y), _), goal((X, Y),_, M).\n",
    "\n",
    "%finally generate the motion commands based on the range set\n",
    "new_occurs(object(robot, ID), action(move, (X, Y)), A) :- range((X,Y), ID, (A, _)).\n",
    "new_occurs(object(robot, ID), action(move, (X, Y)), T+1)  :- new_occurs(object(robot, ID), action(move, (X, Y)), T), range((X,Y), ID, (_, B)), T<B."
   ]
  },
  {
   "cell_type": "code",
   "execution_count": 153,
   "id": "8f91b047",
   "metadata": {},
   "outputs": [
    {
     "name": "stdout",
     "output_type": "stream",
     "text": [
      "clingo version 5.6.0\r\n",
      "Reading from deabstracter.lp ...\r\n",
      "deabstracter.lp:18:57-59: info: global variable in tuple of aggregate element:\r\n",
      "  ID\r\n",
      "\r\n",
      "deabstracter.lp:19:57-59: info: global variable in tuple of aggregate element:\r\n",
      "  ID\r\n",
      "\r\n",
      "deabstracter.lp:20:58-60: info: global variable in tuple of aggregate element:\r\n",
      "  ID\r\n",
      "\r\n",
      "deabstracter.lp:21:57-59: info: global variable in tuple of aggregate element:\r\n",
      "  ID\r\n",
      "\r\n",
      "Solving...\r\n",
      "Answer: 1\r\n",
      "occurs(object(robot,1),action(move,(0,-1)),1)\r\n",
      "occurs(object(robot,1),action(move,(0,-1)),2)\r\n",
      "occurs(object(robot,1),action(move,(1,0)),3)\r\n",
      "occurs(object(robot,1),action(move,(1,0)),4)\r\n",
      "occurs(object(robot,1),action(move,(1,0)),5)\r\n",
      "occurs(object(robot,2),action(move,(0,-1)),1)\r\n",
      "occurs(object(robot,2),action(move,(0,-1)),2)\r\n",
      "t(1)\r\n",
      "t(2)\r\n",
      "t(3)\r\n",
      "t(4)\r\n",
      "t(5)\r\n",
      "max_t(5)\r\n",
      "first((0,-1),1)\r\n",
      "first((0,-1),2)\r\n",
      "second((1,0),1)\r\n",
      "move(1,1,1)\r\n",
      "move(1,1,2)\r\n",
      "move(1,2,1)\r\n",
      "move(1,2,2)\r\n",
      "move(2,1,3)\r\n",
      "move(2,1,4)\r\n",
      "move(2,1,5)\r\n",
      "count((0,-1),1,2)\r\n",
      "count((0,-1),2,2)\r\n",
      "count((1,0),1,3)\r\n",
      "goal((0,-1),1,4)\r\n",
      "goal((0,-1),2,4)\r\n",
      "goal((1,0),1,6)\r\n",
      "range((0,-1),1,(1,4))\r\n",
      "range((0,-1),2,(1,4))\r\n",
      "range((1,0),1,(5,10))\r\n",
      "new_occurs(object(robot,1),action(move,(0,-1)),1)\r\n",
      "new_occurs(object(robot,2),action(move,(0,-1)),1)\r\n",
      "new_occurs(object(robot,1),action(move,(1,0)),5)\r\n",
      "new_occurs(object(robot,1),action(move,(1,0)),6)\r\n",
      "new_occurs(object(robot,2),action(move,(0,-1)),2)\r\n",
      "new_occurs(object(robot,1),action(move,(0,-1)),2)\r\n",
      "new_occurs(object(robot,1),action(move,(0,-1)),3)\r\n",
      "new_occurs(object(robot,2),action(move,(0,-1)),3)\r\n",
      "new_occurs(object(robot,1),action(move,(1,0)),7)\r\n",
      "new_occurs(object(robot,1),action(move,(1,0)),8)\r\n",
      "new_occurs(object(robot,2),action(move,(0,-1)),4)\r\n",
      "new_occurs(object(robot,1),action(move,(0,-1)),4)\r\n",
      "new_occurs(object(robot,1),action(move,(1,0)),9)\r\n",
      "new_occurs(object(robot,1),action(move,(1,0)),10)\r\n",
      "SATISFIABLE\r\n",
      "\r\n",
      "Models       : 1\r\n",
      "Calls        : 1\r\n",
      "Time         : 0.005s (Solving: 0.00s 1st Model: 0.00s Unsat: 0.00s)\r\n",
      "CPU Time     : 0.005s\r\n"
     ]
    }
   ],
   "source": [
    "!clingo deabstracter.lp abstract_solution.lp --out-ifs=\\\\n "
   ]
  }
 ],
 "metadata": {
  "kernelspec": {
   "display_name": "Python 3 (ipykernel)",
   "language": "python",
   "name": "python3"
  },
  "language_info": {
   "codemirror_mode": {
    "name": "ipython",
    "version": 3
   },
   "file_extension": ".py",
   "mimetype": "text/x-python",
   "name": "python",
   "nbconvert_exporter": "python",
   "pygments_lexer": "ipython3",
   "version": "3.9.0"
  }
 },
 "nbformat": 4,
 "nbformat_minor": 5
}
